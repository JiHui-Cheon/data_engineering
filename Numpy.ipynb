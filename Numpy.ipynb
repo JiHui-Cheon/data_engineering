{
 "cells": [
  {
   "cell_type": "markdown",
   "id": "5ef4449f",
   "metadata": {},
   "source": [
    "#### Zeros(): 괄호 안에 입력된 숫자만큼의 원소를 생성하고 0으로 초기화"
   ]
  },
  {
   "cell_type": "code",
   "execution_count": 4,
   "id": "fefe16c7",
   "metadata": {},
   "outputs": [
    {
     "data": {
      "text/plain": [
       "numpy.ndarray"
      ]
     },
     "execution_count": 4,
     "metadata": {},
     "output_type": "execute_result"
    }
   ],
   "source": [
    "import numpy as np\n",
    "\n",
    "x = np.array([1, 2, 3]) # 배열만드는 메서드: array!!\n",
    "type(x) #ndarray : 차원배열"
   ]
  },
  {
   "cell_type": "code",
   "execution_count": 12,
   "id": "b5aadc9d",
   "metadata": {},
   "outputs": [
    {
     "data": {
      "text/plain": [
       "array([[0, 0],\n",
       "       [0, 0],\n",
       "       [0, 0],\n",
       "       [0, 0],\n",
       "       [0, 0],\n",
       "       [0, 0],\n",
       "       [0, 0],\n",
       "       [0, 0],\n",
       "       [0, 0],\n",
       "       [0, 0]], dtype=int8)"
      ]
     },
     "execution_count": 12,
     "metadata": {},
     "output_type": "execute_result"
    }
   ],
   "source": [
    "import numpy as np\n",
    "y = np.zeros(shape=(10,2), dtype=np.int8)\n",
    "# y = np.zeros(5)\n",
    "y\n",
    "\n",
    "# x = np.array([1, 2, 3])\n"
   ]
  },
  {
   "cell_type": "markdown",
   "id": "b101649f",
   "metadata": {},
   "source": [
    "#### Mean(): 배열에 저장된 원소들의 평균값을 계산"
   ]
  },
  {
   "cell_type": "code",
   "execution_count": 54,
   "id": "d31d03de",
   "metadata": {},
   "outputs": [
    {
     "data": {
      "text/plain": [
       "(3,)"
      ]
     },
     "execution_count": 54,
     "metadata": {},
     "output_type": "execute_result"
    }
   ],
   "source": [
    "import numpy as np\n",
    "list_1 = [1, 2, 3]\n",
    "x = np.array(list_1)\n",
    "np.mean(x)\n",
    "x.mean()\n",
    "x.shape"
   ]
  },
  {
   "cell_type": "markdown",
   "id": "eab0a620",
   "metadata": {},
   "source": [
    "#### Array(): Numpy 형식으로 배열의 원소를 입력할 때는 반드시 리스트 형식으로 입력"
   ]
  },
  {
   "cell_type": "code",
   "execution_count": 30,
   "id": "d12ebdb0",
   "metadata": {},
   "outputs": [
    {
     "name": "stdout",
     "output_type": "stream",
     "text": [
      "[1 2 3] [1 2 3] {1, 2, 3} {'a': 'b', 'c': 'd'} {'w': 'c'}\n"
     ]
    }
   ],
   "source": [
    "x = np.array([1, 2, 3])\n",
    "y = np.array((1, 2, 3))\n",
    "z = np.array({1, 2, 3})\n",
    "a = np.array({\"a\":\"b\", \"c\":\"d\"})\n",
    "w = np.array({\"w\":\"c\", \"w\":\"c\"}) # 딕셔너리는 동일값에 대해 마지막만 읽힘.\n",
    "print(x, y, z, a, w)  # array는 리스트와 튜플만 먹힘."
   ]
  },
  {
   "cell_type": "markdown",
   "id": "fd3512e9",
   "metadata": {},
   "source": [
    "#### Reshape(): 배열을 원하는 모양으로 생성\n",
    "###### np.reshape(변경할 배열, 차원) 또는 배열.reshape(차원)으로 사용 할 수 있으며, 현재의 배열의 차원(1차원,2차원,3차원)을 변경하여 행렬을 반환하거나 하는 경우에 많이 이용되는 함수이다."
   ]
  },
  {
   "cell_type": "code",
   "execution_count": 34,
   "id": "219a67cd",
   "metadata": {},
   "outputs": [
    {
     "name": "stdout",
     "output_type": "stream",
     "text": [
      "[[1 2 3 4]\n",
      " [5 6 7 8]] (2, 4) \n",
      " [[1 2]\n",
      " [3 4]\n",
      " [5 6]\n",
      " [7 8]] (4, 2)\n"
     ]
    }
   ],
   "source": [
    "import numpy as np\n",
    "a = [1,2,3,4,5,6,7,8]\n",
    "b = np.reshape(a,(2, 4)) # (3, 2)하면 오류남. 3행 안만들어짐.\n",
    "c = np.reshape(a,(4, 2))\n",
    "print(b, b.shape, '\\n', c, c.shape)"
   ]
  },
  {
   "cell_type": "markdown",
   "id": "b8dc3585",
   "metadata": {},
   "source": [
    "#### Reshape() 3차원 배열 만들기"
   ]
  },
  {
   "cell_type": "code",
   "execution_count": 43,
   "id": "ebf0911e",
   "metadata": {},
   "outputs": [
    {
     "name": "stdout",
     "output_type": "stream",
     "text": [
      "[ 1  2  3  4  5  6  7  8  9 10 11 12]\n",
      "[[[ 1  2]\n",
      "  [ 3  4]]\n",
      "\n",
      " [[ 5  6]\n",
      "  [ 7  8]]\n",
      "\n",
      " [[ 9 10]\n",
      "  [11 12]]]\n"
     ]
    }
   ],
   "source": [
    "a = np.arange(1, 13)\n",
    "print(a)\n",
    "b = a.reshape(3, 2, 2) # 3차원 배열은 인자값을 3개 넣는다. 3개 2행 2열\n",
    "print(b)"
   ]
  },
  {
   "cell_type": "markdown",
   "id": "8343c4e5",
   "metadata": {},
   "source": [
    "#### Reshape() -1의 활용\n",
    "###### reshape를 활용하는 경우를 보다 보면 입력인수로 -1이 들어간 경우가 종종 있다. reshape()의 ‘-1’이 의미하는 바는, 변경된 배열의 ‘-1’ 위치의 차원은 “원래 배열의 길이와 남은 차원으로 부터 추정”이 된다는 뜻이다."
   ]
  },
  {
   "cell_type": "code",
   "execution_count": 44,
   "id": "d043393d",
   "metadata": {},
   "outputs": [
    {
     "data": {
      "text/plain": [
       "array([[ 0,  1],\n",
       "       [ 2,  3],\n",
       "       [ 4,  5],\n",
       "       [ 6,  7],\n",
       "       [ 8,  9],\n",
       "       [10, 11]])"
      ]
     },
     "execution_count": 44,
     "metadata": {},
     "output_type": "execute_result"
    }
   ],
   "source": [
    "x = np.arange(12)\n",
    "x.reshape(-1,2)"
   ]
  },
  {
   "cell_type": "code",
   "execution_count": 45,
   "id": "7a2efd5c",
   "metadata": {},
   "outputs": [
    {
     "data": {
      "text/plain": [
       "array([[ 0,  1,  2],\n",
       "       [ 3,  4,  5],\n",
       "       [ 6,  7,  8],\n",
       "       [ 9, 10, 11]])"
      ]
     },
     "execution_count": 45,
     "metadata": {},
     "output_type": "execute_result"
    }
   ],
   "source": [
    "x.reshape(-1, 3)"
   ]
  },
  {
   "cell_type": "markdown",
   "id": "ce34eab3",
   "metadata": {},
   "source": [
    "#### Ones()\n",
    "###### 배열을 1의 값들로 채움"
   ]
  },
  {
   "cell_type": "code",
   "execution_count": 57,
   "id": "20e87b7c",
   "metadata": {},
   "outputs": [
    {
     "name": "stdout",
     "output_type": "stream",
     "text": [
      "[[1. 1. 1.]\n",
      " [1. 1. 1.]\n",
      " [1. 1. 1.]\n",
      " [1. 1. 1.]]\n"
     ]
    }
   ],
   "source": [
    "y = np.ones([4, 3])\n",
    "print(y)\n",
    "# z = y*0.3 하면 0.으로 채워짐"
   ]
  },
  {
   "cell_type": "markdown",
   "id": "0d2b421b",
   "metadata": {},
   "source": [
    "#### Numpy 배열의 슬라이싱"
   ]
  },
  {
   "cell_type": "code",
   "execution_count": 61,
   "id": "7f8f274e",
   "metadata": {},
   "outputs": [
    {
     "ename": "SyntaxError",
     "evalue": "invalid syntax (<ipython-input-61-efcb279a5da0>, line 3)",
     "output_type": "error",
     "traceback": [
      "\u001b[1;36m  File \u001b[1;32m\"<ipython-input-61-efcb279a5da0>\"\u001b[1;36m, line \u001b[1;32m3\u001b[0m\n\u001b[1;33m    print(list1[;, 1])\u001b[0m\n\u001b[1;37m                ^\u001b[0m\n\u001b[1;31mSyntaxError\u001b[0m\u001b[1;31m:\u001b[0m invalid syntax\n"
     ]
    }
   ],
   "source": [
    "list1 = [[1, 11], [2, 12], [3, 13], [4, 14]]\n",
    "print(list1[:][1])\n",
    "print(list1[:, 1])\n",
    "# 오류가 나는 이유: 리스트이지 배열이 아니기 때문."
   ]
  },
  {
   "cell_type": "code",
   "execution_count": 73,
   "id": "fca80c54",
   "metadata": {},
   "outputs": [
    {
     "name": "stdout",
     "output_type": "stream",
     "text": [
      "[[ 1 11]\n",
      " [ 2 12]\n",
      " [ 3 13]\n",
      " [ 4 14]]\n",
      "[11 12 13 14]\n",
      "12\n",
      "[[ 2 12]\n",
      " [ 3 13]\n",
      " [ 4 14]]\n"
     ]
    }
   ],
   "source": [
    "list = [[1, 11], [2, 12], [3, 13], [4, 14]]\n",
    "arr = np.array(list)\n",
    "print(arr)\n",
    "print(arr[: , 1])\n",
    "print(arr[1][1])\n",
    "print(arr[1:])"
   ]
  },
  {
   "cell_type": "markdown",
   "id": "adcb6d04",
   "metadata": {},
   "source": [
    "#### Math 모듈의 sqrt()와 Numpy 모듈의 sqrt() 비교하기"
   ]
  },
  {
   "cell_type": "code",
   "execution_count": 77,
   "id": "8857e572",
   "metadata": {},
   "outputs": [
    {
     "ename": "TypeError",
     "evalue": "must be real number, not list",
     "output_type": "error",
     "traceback": [
      "\u001b[1;31m---------------------------------------------------------------------------\u001b[0m",
      "\u001b[1;31mTypeError\u001b[0m                                 Traceback (most recent call last)",
      "\u001b[1;32m<ipython-input-77-81e45fe96b63>\u001b[0m in \u001b[0;36m<module>\u001b[1;34m\u001b[0m\n\u001b[0;32m      1\u001b[0m \u001b[1;32mimport\u001b[0m \u001b[0mmath\u001b[0m\u001b[1;33m\u001b[0m\u001b[1;33m\u001b[0m\u001b[0m\n\u001b[0;32m      2\u001b[0m \u001b[0mmath\u001b[0m\u001b[1;33m.\u001b[0m\u001b[0msqrt\u001b[0m\u001b[1;33m(\u001b[0m\u001b[1;36m2\u001b[0m\u001b[1;33m)\u001b[0m\u001b[1;33m\u001b[0m\u001b[1;33m\u001b[0m\u001b[0m\n\u001b[1;32m----> 3\u001b[1;33m \u001b[0mmath\u001b[0m\u001b[1;33m.\u001b[0m\u001b[0msqrt\u001b[0m\u001b[1;33m(\u001b[0m\u001b[1;33m[\u001b[0m\u001b[1;36m2\u001b[0m\u001b[1;33m,\u001b[0m \u001b[1;36m3\u001b[0m\u001b[1;33m,\u001b[0m \u001b[1;36m4\u001b[0m\u001b[1;33m]\u001b[0m\u001b[1;33m)\u001b[0m\u001b[1;33m\u001b[0m\u001b[1;33m\u001b[0m\u001b[0m\n\u001b[0m",
      "\u001b[1;31mTypeError\u001b[0m: must be real number, not list"
     ]
    }
   ],
   "source": [
    "import math\n",
    "math.sqrt(2)\n",
    "math.sqrt([2, 3, 4]) # 각각의 원소의 제곱근을 못구한다.(한계)"
   ]
  },
  {
   "cell_type": "code",
   "execution_count": 80,
   "id": "abd34454",
   "metadata": {},
   "outputs": [
    {
     "data": {
      "text/plain": [
       "array([1.41421356, 1.73205081, 2.        ])"
      ]
     },
     "execution_count": 80,
     "metadata": {},
     "output_type": "execute_result"
    }
   ],
   "source": [
    "import numpy as np\n",
    "np.sqrt(2)\n",
    "np.sqrt([2, 3, 4]) # 각각의 원소의 제곱근을 구할 수 있음."
   ]
  },
  {
   "cell_type": "code",
   "execution_count": 82,
   "id": "a8c2ad4a",
   "metadata": {},
   "outputs": [
    {
     "name": "stdout",
     "output_type": "stream",
     "text": [
      "[0. 0. 0. 0. 0. 0. 0. 0. 0. 0.]\n"
     ]
    }
   ],
   "source": [
    "import numpy as np\n",
    "\n",
    "x = np.zeros(10)\n",
    "print(x)"
   ]
  },
  {
   "cell_type": "code",
   "execution_count": 91,
   "id": "391f0dfc",
   "metadata": {},
   "outputs": [
    {
     "name": "stdout",
     "output_type": "stream",
     "text": [
      "[[0. 0. 0.]\n",
      " [0. 0. 0.]\n",
      " [0. 0. 0.]\n",
      " [0. 0. 0.]\n",
      " [0. 0. 0.]]\n",
      "[[0. 0. 0. 0. 0.]\n",
      " [0. 0. 0. 0. 0.]\n",
      " [0. 0. 0. 0. 0.]]\n"
     ]
    }
   ],
   "source": [
    "y = np.zeros([5, 3]) # 그냥 np.zeros(5, 3)하면 오류가 남. 배열이 아니기 때문\n",
    "print(y)\n",
    "z = np.zeros([3, 5])\n",
    "print(z)"
   ]
  },
  {
   "cell_type": "code",
   "execution_count": 93,
   "id": "801d30bf",
   "metadata": {},
   "outputs": [
    {
     "name": "stdout",
     "output_type": "stream",
     "text": [
      "[[8. 8. 8. 8. 8.]\n",
      " [8. 8. 8. 8. 8.]\n",
      " [8. 8. 8. 8. 8.]]\n"
     ]
    }
   ],
   "source": [
    "# (3, 5)형태로 reshape하기\n",
    "z = y.reshape([3, 5]) # reshape해도 오류안남.\n",
    "z +=4 # 원소 4로 만들기.\n",
    "print(z)"
   ]
  },
  {
   "cell_type": "markdown",
   "id": "2f9c7e35",
   "metadata": {},
   "source": [
    "#### Transpose() : 전치행렬"
   ]
  },
  {
   "cell_type": "code",
   "execution_count": 97,
   "id": "7e3a87ee",
   "metadata": {},
   "outputs": [
    {
     "name": "stdout",
     "output_type": "stream",
     "text": [
      "[[1 2]\n",
      " [3 4]]\n",
      "[[1 3]\n",
      " [2 4]]\n"
     ]
    }
   ],
   "source": [
    "import numpy as np\n",
    "\n",
    "ary = np.array([[1, 2], [3, 4]])\n",
    "print(ary)\n",
    "trans_ary = ary.transpose() # 행과 열이 바뀜.\n",
    "print(trans_ary)"
   ]
  },
  {
   "cell_type": "code",
   "execution_count": 103,
   "id": "5aa20f65",
   "metadata": {},
   "outputs": [
    {
     "name": "stdout",
     "output_type": "stream",
     "text": [
      "[[1 3]\n",
      " [2 4]\n",
      " [5 6]]\n",
      "[[1 3]\n",
      " [2 4]\n",
      " [5 6]]\n"
     ]
    }
   ],
   "source": [
    "ary = np.array([[1, 2, 5 ], [3, 4, 6]])\n",
    "x = ary.transpose()\n",
    "print(x)\n",
    "print(ary.transpose())"
   ]
  },
  {
   "cell_type": "markdown",
   "id": "0a4cd1f3",
   "metadata": {},
   "source": [
    "#### 2개 배열에 대한 연산\n",
    "###### - 2개 배열에 저장된 내용을 인덱스별로 계산\n",
    "###### - 선형대수학의 사칙연산과 동일하게 작동 ,  곱셈도 같은 원리로 동작"
   ]
  },
  {
   "cell_type": "code",
   "execution_count": 107,
   "id": "80821f06",
   "metadata": {},
   "outputs": [
    {
     "name": "stdout",
     "output_type": "stream",
     "text": [
      "[4 6 8]\n",
      "[ 3  8 15]\n",
      "[3 2 1]\n",
      "[0 0 2]\n"
     ]
    }
   ],
   "source": [
    "import numpy as np\n",
    "\n",
    "x = np.array((3, 4, 5))\n",
    "y = np.array((1, 2, 3))\n",
    "print(x + y)\n",
    "print(x * y)\n",
    "print(x // y)\n",
    "print(x % y)"
   ]
  },
  {
   "cell_type": "code",
   "execution_count": 115,
   "id": "ac2facde",
   "metadata": {},
   "outputs": [
    {
     "name": "stdout",
     "output_type": "stream",
     "text": [
      "[4 5 6]\n",
      "[1024 3125 7776]\n"
     ]
    }
   ],
   "source": [
    "x = np.array((3, 4, 5))\n",
    "x += 1\n",
    "print(x)\n",
    "x **= 5\n",
    "print(x)"
   ]
  },
  {
   "cell_type": "markdown",
   "id": "de54e82e",
   "metadata": {},
   "source": [
    "#### 인덱싱"
   ]
  },
  {
   "cell_type": "code",
   "execution_count": 121,
   "id": "2cce7c39",
   "metadata": {},
   "outputs": [
    {
     "name": "stdout",
     "output_type": "stream",
     "text": [
      "[4 5 6]\n",
      "[2 5 8]\n"
     ]
    }
   ],
   "source": [
    "x = np.array([[1, 2, 3], [4, 5, 6], [7, 8, 9]])\n",
    "print(x[1])\n",
    "print(x[:, 1])"
   ]
  },
  {
   "cell_type": "markdown",
   "id": "52f4cae9",
   "metadata": {},
   "source": [
    "#### 2개의 Numpy 배열 간의 계산"
   ]
  },
  {
   "cell_type": "code",
   "execution_count": 130,
   "id": "36e34dd3",
   "metadata": {},
   "outputs": [
    {
     "name": "stdout",
     "output_type": "stream",
     "text": [
      "[ 9 11 13]\n",
      "[16 45 80]\n"
     ]
    }
   ],
   "source": [
    "# x의 1행과 y의 3행을 더한 값을 출력하기\n",
    "x = np.array([[1, 2, 3], [4, 5, 6], [7, 8, 9]])\n",
    "y = np.array([[2, 3, 4], [5, 6, 7], [8, 9, 10]])\n",
    "print(x[0] + y[2]) # print(x[0,:] + y[2, :])\n",
    "\n",
    "# x의 2열과 y의 3행 곱하기\n",
    "print(x[:, 1] * y[2,:])"
   ]
  },
  {
   "cell_type": "code",
   "execution_count": 205,
   "id": "9f59bec4",
   "metadata": {},
   "outputs": [
    {
     "name": "stdout",
     "output_type": "stream",
     "text": [
      "[False False False  True  True]\n"
     ]
    }
   ],
   "source": [
    "a = np.array([10, 20, 30, 40, 60])\n",
    "\n",
    "b = a > 30\n",
    "print(b)"
   ]
  },
  {
   "cell_type": "markdown",
   "id": "ed43ceaf",
   "metadata": {},
   "source": [
    "#### Random()"
   ]
  },
  {
   "cell_type": "code",
   "execution_count": 138,
   "id": "f750ca67",
   "metadata": {},
   "outputs": [
    {
     "name": "stdout",
     "output_type": "stream",
     "text": [
      "[0.14255296 0.93158244 0.80129187 0.76504316 0.1724985 ]\n"
     ]
    }
   ],
   "source": [
    "import numpy as np\n",
    "\n",
    "ary = np.random.random(5)\n",
    "print(ary)"
   ]
  },
  {
   "cell_type": "markdown",
   "id": "921984a2",
   "metadata": {},
   "source": [
    "#### rand: (0, 1) 범위에서 균일한 분포를 나타낼때"
   ]
  },
  {
   "cell_type": "code",
   "execution_count": 149,
   "id": "e0ad6c4e",
   "metadata": {},
   "outputs": [
    {
     "name": "stdout",
     "output_type": "stream",
     "text": [
      "[0.99130779 0.32665657 0.81574431 0.52767174 0.69632822]\n",
      "[[0.92645748 0.06559141 0.99698989]\n",
      " [0.37474294 0.58904671 0.24777382]] (2, 3)\n"
     ]
    }
   ],
   "source": [
    "a = np.random.rand(5)\n",
    "print(a)\n",
    "\n",
    "b = np.random.rand(2, 3) \n",
    "\n",
    "print(b, b.shape)"
   ]
  },
  {
   "cell_type": "markdown",
   "id": "8127b917",
   "metadata": {},
   "source": [
    "#### random.randint: (최소값, 최대값)범위 내에서"
   ]
  },
  {
   "cell_type": "code",
   "execution_count": 168,
   "id": "94d6154f",
   "metadata": {},
   "outputs": [
    {
     "name": "stdout",
     "output_type": "stream",
     "text": [
      "[[3 2 1]\n",
      " [1 2 3]\n",
      " [2 2 4]\n",
      " [2 1 1]\n",
      " [1 4 4]]\n"
     ]
    }
   ],
   "source": [
    "c = np.random.randint(1, 5, size=(5, 3))\n",
    "print(c)"
   ]
  },
  {
   "cell_type": "markdown",
   "id": "7ac91ab9",
   "metadata": {},
   "source": [
    "#### random.seed(): 난수 생성에 필요한 시드를 설정할 때(고정값 설정)"
   ]
  },
  {
   "cell_type": "code",
   "execution_count": 222,
   "id": "71dc172e",
   "metadata": {},
   "outputs": [
    {
     "name": "stdout",
     "output_type": "stream",
     "text": [
      "[[0.5488135  0.71518937 0.60276338]\n",
      " [0.54488318 0.4236548  0.64589411]]\n"
     ]
    }
   ],
   "source": [
    "import numpy as np\n",
    "\n",
    "np.random.seed(0)\n",
    "\n",
    "print(np.random.rand(2, 3))"
   ]
  },
  {
   "cell_type": "markdown",
   "id": "e3b23c48",
   "metadata": {},
   "source": [
    "#### any()와 all()의 비교"
   ]
  },
  {
   "cell_type": "code",
   "execution_count": 332,
   "id": "fb1abb8a",
   "metadata": {},
   "outputs": [
    {
     "name": "stdout",
     "output_type": "stream",
     "text": [
      "[False  True  True  True  True]\n",
      "False\n"
     ]
    }
   ],
   "source": [
    "# np.random.seed(0)\n",
    "a = np.random.rand(5)\n",
    "print(a > 0.12)\n",
    "print(np.all(a > 0.12)) # 모두다 ture여야지"
   ]
  },
  {
   "cell_type": "code",
   "execution_count": 333,
   "id": "d6218083",
   "metadata": {},
   "outputs": [
    {
     "name": "stdout",
     "output_type": "stream",
     "text": [
      "[False False False False False]\n",
      "False\n"
     ]
    }
   ],
   "source": [
    "a = np.random.rand(5)\n",
    "print(a > 0.9)\n",
    "print(np.any(a > 0.9)) # all 대신에 any를 넣으면 하나라도 만족되면 true"
   ]
  },
  {
   "cell_type": "markdown",
   "id": "98d60679",
   "metadata": {},
   "source": [
    "#### linspace()\n",
    "###### 시작과 끝의 값을 지정하고 그 사이의 값을 균등하게 배분 0과 12를 포함한 그 사이의 값들을 선형적으로 분배하여 모두 4개의 원소를 갖는 배열을 생성"
   ]
  },
  {
   "cell_type": "code",
   "execution_count": 339,
   "id": "07d0b92d",
   "metadata": {},
   "outputs": [
    {
     "data": {
      "text/plain": [
       "array([ 1.,  4.,  7., 10.])"
      ]
     },
     "execution_count": 339,
     "metadata": {},
     "output_type": "execute_result"
    }
   ],
   "source": [
    "# endpoing: 마지막 값 제외. 끝값 지정안하면 기본값은 True\n",
    "np.linspace(1, 13, 4, endpoint=False) "
   ]
  },
  {
   "cell_type": "code",
   "execution_count": 341,
   "id": "73d1f653",
   "metadata": {},
   "outputs": [
    {
     "data": {
      "text/plain": [
       "(array([ 0.,  3.,  6.,  9., 12.]), 3.0)"
      ]
     },
     "execution_count": 341,
     "metadata": {},
     "output_type": "execute_result"
    }
   ],
   "source": [
    "# retstep: 샘플간의 간격 추출\n",
    "np.linspace(0, 12, 5, retstep=True) "
   ]
  }
 ],
 "metadata": {
  "kernelspec": {
   "display_name": "Python 3",
   "language": "python",
   "name": "python3"
  },
  "language_info": {
   "codemirror_mode": {
    "name": "ipython",
    "version": 3
   },
   "file_extension": ".py",
   "mimetype": "text/x-python",
   "name": "python",
   "nbconvert_exporter": "python",
   "pygments_lexer": "ipython3",
   "version": "3.8.9"
  }
 },
 "nbformat": 4,
 "nbformat_minor": 5
}
